{
 "cells": [
  {
   "cell_type": "code",
   "execution_count": 1,
   "id": "931e909f",
   "metadata": {},
   "outputs": [],
   "source": [
    "# Importing important libraries\n",
    "import numpy as np\n",
    "import pandas as pd\n",
    "import np_utils\n",
    "import matplotlib.pyplot as plt\n",
    "import tensorflow as tf\n",
    "from tensorflow import keras\n",
    "from keras.models import Sequential\n",
    "from keras.layers import Dense, Conv2D, MaxPooling2D, Flatten, Dropout, BatchNormalization\n",
    "from keras.utils import to_categorical\n",
    "from keras.preprocessing.image import ImageDataGenerator\n",
    "from sklearn.model_selection import train_test_split\n",
    "import matplotlib.pyplot as plt"
   ]
  },
  {
   "cell_type": "code",
   "execution_count": null,
   "id": "5008630f",
   "metadata": {},
   "outputs": [],
   "source": []
  },
  {
   "cell_type": "code",
   "execution_count": 3,
   "id": "c8031115",
   "metadata": {},
   "outputs": [],
   "source": [
    "# Loading the Dataset\n",
    "def load_data():\n",
    "  #MNIST & NIST dataset\n",
    "  digits_data_train = pd.read_csv(\"./data/mnist_train.csv\")\n",
    "  digits_data_test = pd.read_csv(\"./data/mnist_test.csv\")\n",
    "  letters_dataset = pd.read_csv(\"./data/A_Z Handwritten Data.csv\")\n",
    "  digits_data = pd.concat([digits_data_train, digits_data_test], ignore_index=True)\n",
    "\n",
    "  # Renaming 0th column as label\n",
    "  digits_data.rename(columns={'0':'label'}, inplace=True)\n",
    "  letters_dataset.rename(columns={'0':'label'}, inplace=True)\n",
    "\n",
    "  # Selecting only 1000 samples from each class\n",
    "  digits_data = digits_data.groupby('label').head(1000)\n",
    "  letters_dataset = letters_dataset.groupby('label').head(1000)\n",
    "\n",
    "  # Spliting data into X(digits) and Y(letters) for each type\n",
    "  Y1 = digits_data['label']\n",
    "  X1 = digits_data.drop('label', axis=1)\n",
    "  Y2 = letters_dataset[\"label\"]\n",
    "  X2 = letters_dataset.drop(\"label\", axis=1)\n",
    "\n",
    "  # Spliting data into train and test set\n",
    "  x_train1, x_test1, y_train1, y_test1 = train_test_split(X1, Y1, train_size=0.9)\n",
    "  x_train2, x_test2, y_train2, y_test2 = train_test_split(X2, Y2, train_size=0.9)\n",
    "\n",
    "  # Converting into numpy array for preprocessing\n",
    "  x_train1 = x_train1.to_numpy()\n",
    "  x_test1 = x_test1.to_numpy()\n",
    "  x_train2 = x_train2.to_numpy()\n",
    "  x_test2 = x_test2.to_numpy()\n",
    "\n",
    "  # Add ten to match number of classes for one-hot\n",
    "  y_train2 = y_train2 + 10\n",
    "  y_test2 = y_test2 + 10\n",
    "\n",
    "  # Convert Y into one-hot vectors\n",
    "  y_train1 = to_categorical(y_train1, num_classes=36)\n",
    "  y_test1 = to_categorical(y_test1, num_classes=36)\n",
    "  y_train2 = to_categorical(y_train2, num_classes=36)\n",
    "  y_test2 = to_categorical(y_test2, num_classes=36)\n",
    "\n",
    "  # Reshape Xs into CNN input dimension\n",
    "  x_train1 = x_train1.reshape(x_train1.shape[0], 28, 28, 1)\n",
    "  x_test1 = x_test1.reshape(x_test1.shape[0], 28, 28, 1)\n",
    "  x_train2 = x_train2.reshape(x_train2.shape[0], 28, 28, 1)\n",
    "  x_test2 = x_test2.reshape(x_test2.shape[0], 28, 28, 1)\n",
    "\n",
    "  # Combine each X and Y from each dataset\n",
    "  x_train = np.concatenate((x_train1, x_train2), axis=0)\n",
    "  x_test = np.concatenate((x_test1, x_test2), axis=0)\n",
    "  y_train = np.concatenate((y_train1, y_train2), axis=0)\n",
    "  y_test = np.concatenate((y_test1, y_test2), axis=0)\n",
    "\n",
    "  return x_train, x_test, y_train, y_test"
   ]
  },
  {
   "cell_type": "code",
   "execution_count": 4,
   "id": "bcfd78e3",
   "metadata": {},
   "outputs": [],
   "source": [
    "# Pre Processing the data\n",
    "def preprocessing(x_train, x_test):\n",
    "  x_train = x_train / 255\n",
    "  x_test = x_test / 255\n",
    "  return x_train, x_test"
   ]
  },
  {
   "cell_type": "code",
   "execution_count": 5,
   "id": "9e9d75ef",
   "metadata": {},
   "outputs": [],
   "source": [
    "# Loading the data\n",
    "x_train, x_test, y_train, y_test = load_data()\n",
    "(x_train, x_test) = preprocessing(x_train, x_test)"
   ]
  },
  {
   "cell_type": "code",
   "execution_count": 6,
   "id": "7af041b4",
   "metadata": {},
   "outputs": [],
   "source": [
    "# Initialize Keras image generator\n",
    "generator = ImageDataGenerator(rotation_range=10, zoom_range=0.1, width_shift_range=0.1, height_shift_range=0.1)"
   ]
  },
  {
   "cell_type": "code",
   "execution_count": 7,
   "id": "c6a3106c",
   "metadata": {},
   "outputs": [],
   "source": [
    "# CNN Model\n",
    "model = Sequential([\n",
    "    Conv2D(filters=32, kernel_size=3, input_shape=(28, 28, 1), activation=\"relu\"),\n",
    "    BatchNormalization(),\n",
    "    Conv2D(filters=32, kernel_size=3, activation=\"relu\"),\n",
    "    BatchNormalization(),\n",
    "    Conv2D(filters=32, kernel_size=5, strides=2, padding=\"same\", activation=\"relu\"),\n",
    "    BatchNormalization(),\n",
    "    Dropout(0.4),\n",
    "    Conv2D(filters=64, kernel_size=3, activation=\"relu\"),\n",
    "    BatchNormalization(),\n",
    "    Conv2D(filters=64, kernel_size=3, activation=\"relu\"),\n",
    "    BatchNormalization(),\n",
    "    Conv2D(filters=64, kernel_size=5, strides=2, padding=\"same\", activation=\"relu\"),\n",
    "    BatchNormalization(),\n",
    "    Dropout(0.4),\n",
    "    Conv2D(128, kernel_size=4, activation=\"relu\"),\n",
    "    BatchNormalization(),\n",
    "    Flatten(),\n",
    "    Dropout(0.4),\n",
    "    Dense(36, activation=\"softmax\")\n",
    "])"
   ]
  },
  {
   "cell_type": "code",
   "execution_count": 8,
   "id": "7f95770e",
   "metadata": {
    "scrolled": true
   },
   "outputs": [
    {
     "name": "stdout",
     "output_type": "stream",
     "text": [
      "WARNING:tensorflow:From C:\\Users\\aadis\\AppData\\Local\\Temp/ipykernel_8516/3597162441.py:4: Model.fit_generator (from tensorflow.python.keras.engine.training) is deprecated and will be removed in a future version.\n",
      "Instructions for updating:\n",
      "Please use Model.fit, which supports generators.\n",
      "Epoch 1/30\n",
      "507/506 [==============================] - 8s 16ms/step - loss: 1.5624 - accuracy: 0.5672 - val_loss: 1.2451 - val_accuracy: 0.6214\n",
      "Epoch 2/30\n",
      "507/506 [==============================] - 8s 15ms/step - loss: 0.5427 - accuracy: 0.8298 - val_loss: 0.2226 - val_accuracy: 0.9183\n",
      "Epoch 3/30\n",
      "507/506 [==============================] - 8s 15ms/step - loss: 0.4108 - accuracy: 0.8672 - val_loss: 0.2115 - val_accuracy: 0.9303\n",
      "Epoch 4/30\n",
      "507/506 [==============================] - 8s 15ms/step - loss: 0.3411 - accuracy: 0.8900 - val_loss: 0.1682 - val_accuracy: 0.9375\n",
      "Epoch 5/30\n",
      "507/506 [==============================] - 8s 15ms/step - loss: 0.3087 - accuracy: 0.8980 - val_loss: 0.1599 - val_accuracy: 0.9400\n",
      "Epoch 6/30\n",
      "507/506 [==============================] - 8s 15ms/step - loss: 0.2867 - accuracy: 0.9028 - val_loss: 0.1774 - val_accuracy: 0.9386\n",
      "Epoch 7/30\n",
      "507/506 [==============================] - 8s 16ms/step - loss: 0.2653 - accuracy: 0.9131 - val_loss: 0.1800 - val_accuracy: 0.9353\n",
      "Epoch 8/30\n",
      "507/506 [==============================] - 8s 15ms/step - loss: 0.2490 - accuracy: 0.9152 - val_loss: 0.1609 - val_accuracy: 0.9381\n",
      "Epoch 9/30\n",
      "507/506 [==============================] - 8s 15ms/step - loss: 0.2470 - accuracy: 0.9169 - val_loss: 0.1707 - val_accuracy: 0.9425\n",
      "Epoch 10/30\n",
      "507/506 [==============================] - 8s 15ms/step - loss: 0.2257 - accuracy: 0.9223 - val_loss: 0.1496 - val_accuracy: 0.9506\n",
      "Epoch 11/30\n",
      "507/506 [==============================] - 8s 16ms/step - loss: 0.2191 - accuracy: 0.9231 - val_loss: 0.1436 - val_accuracy: 0.9464\n",
      "Epoch 12/30\n",
      "507/506 [==============================] - 8s 15ms/step - loss: 0.2202 - accuracy: 0.9248 - val_loss: 0.1964 - val_accuracy: 0.9297\n",
      "Epoch 13/30\n",
      "507/506 [==============================] - 7s 15ms/step - loss: 0.2081 - accuracy: 0.9277 - val_loss: 0.1324 - val_accuracy: 0.9544\n",
      "Epoch 14/30\n",
      "507/506 [==============================] - 8s 15ms/step - loss: 0.2000 - accuracy: 0.9304 - val_loss: 0.1463 - val_accuracy: 0.9450\n",
      "Epoch 15/30\n",
      "507/506 [==============================] - 8s 15ms/step - loss: 0.1940 - accuracy: 0.9322 - val_loss: 0.1593 - val_accuracy: 0.9492\n",
      "Epoch 16/30\n",
      "507/506 [==============================] - 8s 15ms/step - loss: 0.1940 - accuracy: 0.9325 - val_loss: 0.1436 - val_accuracy: 0.9450\n",
      "Epoch 17/30\n",
      "507/506 [==============================] - 8s 16ms/step - loss: 0.1875 - accuracy: 0.9354 - val_loss: 0.1357 - val_accuracy: 0.9514\n",
      "Epoch 18/30\n",
      "507/506 [==============================] - 8s 15ms/step - loss: 0.1808 - accuracy: 0.9379 - val_loss: 0.1299 - val_accuracy: 0.9544\n",
      "Epoch 19/30\n",
      "507/506 [==============================] - 8s 15ms/step - loss: 0.1765 - accuracy: 0.9397 - val_loss: 0.1526 - val_accuracy: 0.9414\n",
      "Epoch 20/30\n",
      "507/506 [==============================] - 8s 15ms/step - loss: 0.1735 - accuracy: 0.9402 - val_loss: 0.1403 - val_accuracy: 0.9489\n",
      "Epoch 21/30\n",
      "507/506 [==============================] - 8s 15ms/step - loss: 0.1710 - accuracy: 0.9411 - val_loss: 0.1349 - val_accuracy: 0.9506\n",
      "Epoch 22/30\n",
      "507/506 [==============================] - 8s 15ms/step - loss: 0.1705 - accuracy: 0.9424 - val_loss: 0.1493 - val_accuracy: 0.9453\n",
      "Epoch 23/30\n",
      "507/506 [==============================] - 8s 15ms/step - loss: 0.1627 - accuracy: 0.9439 - val_loss: 0.1499 - val_accuracy: 0.9467\n",
      "Epoch 24/30\n",
      "507/506 [==============================] - 8s 15ms/step - loss: 0.1618 - accuracy: 0.9441 - val_loss: 0.1440 - val_accuracy: 0.9453\n",
      "Epoch 25/30\n",
      "507/506 [==============================] - 8s 15ms/step - loss: 0.1597 - accuracy: 0.9436 - val_loss: 0.1343 - val_accuracy: 0.9472\n",
      "Epoch 26/30\n",
      "507/506 [==============================] - 8s 15ms/step - loss: 0.1569 - accuracy: 0.9440 - val_loss: 0.1330 - val_accuracy: 0.9506\n",
      "Epoch 27/30\n",
      "507/506 [==============================] - 8s 15ms/step - loss: 0.1526 - accuracy: 0.9475 - val_loss: 0.1399 - val_accuracy: 0.9464\n",
      "Epoch 28/30\n",
      "507/506 [==============================] - 8s 15ms/step - loss: 0.1529 - accuracy: 0.9459 - val_loss: 0.1289 - val_accuracy: 0.9481\n",
      "Epoch 29/30\n",
      "507/506 [==============================] - 8s 15ms/step - loss: 0.1517 - accuracy: 0.9460 - val_loss: 0.1353 - val_accuracy: 0.9533\n",
      "Epoch 30/30\n",
      "507/506 [==============================] - 8s 15ms/step - loss: 0.1423 - accuracy: 0.9490 - val_loss: 0.1352 - val_accuracy: 0.9522\n"
     ]
    }
   ],
   "source": [
    "# Compiling and training the model\n",
    "model.compile(loss=\"categorical_crossentropy\", optimizer=\"adam\", metrics=[\"accuracy\"])\n",
    "\n",
    "history = model.fit_generator(generator.flow(x_train, y_train, batch_size=64), epochs=30, steps_per_epoch=x_train.shape[0]/64, validation_data=(x_test, y_test))"
   ]
  },
  {
   "cell_type": "markdown",
   "id": "84900e59",
   "metadata": {},
   "source": []
  },
  {
   "cell_type": "code",
   "execution_count": 9,
   "id": "1860c2a8",
   "metadata": {},
   "outputs": [],
   "source": [
    "# Saving the model\n",
    "model.save('new_model.h5')"
   ]
  },
  {
   "cell_type": "code",
   "execution_count": 14,
   "id": "9011f98e",
   "metadata": {},
   "outputs": [],
   "source": [
    "np.save('my_history.npy',history.history)"
   ]
  },
  {
   "cell_type": "code",
   "execution_count": 16,
   "id": "aedfd152",
   "metadata": {},
   "outputs": [
    {
     "data": {
      "image/png": "[encoded data removed]",
      "text/plain": [
       "<Figure size 432x288 with 1 Axes>"
      ]
     },
     "metadata": {
      "needs_background": "light"
     },
     "output_type": "display_data"
    }
   ],
   "source": [
    "# Summarize history for accuracy\n",
    "plt.plot(history.history['accuracy'])\n",
    "plt.plot(history.history['val_accuracy'])\n",
    "plt.title('model accuracy')\n",
    "plt.ylabel('accuracy')\n",
    "plt.xlabel('epoch')\n",
    "plt.legend(['train', 'test'], loc='upper left')\n",
    "plt.show()"
   ]
  },
  {
   "cell_type": "code",
   "execution_count": 17,
   "id": "a8254a12",
   "metadata": {},
   "outputs": [
    {
     "data": {
      "image/png": "[encoded data removed]",
      "text/plain": [
       "<Figure size 432x288 with 1 Axes>"
      ]
     },
     "metadata": {
      "needs_background": "light"
     },
     "output_type": "display_data"
    }
   ],
   "source": [
    "# Summarize history for loss\n",
    "plt.plot(history.history['loss'])\n",
    "plt.plot(history.history['val_loss'])\n",
    "plt.title('model loss')\n",
    "plt.ylabel('loss')\n",
    "plt.xlabel('epoch')\n",
    "plt.legend(['train', 'test'], loc='upper left')\n",
    "plt.show()"
   ]
  },
  {
   "cell_type": "code",
   "execution_count": null,
   "id": "28d683c8",
   "metadata": {},
   "outputs": [],
   "source": []
  }
 ],
 "metadata": {
  "kernelspec": {
   "display_name": "Python 3 (ipykernel)",
   "language": "python",
   "name": "python3"
  },
  "language_info": {
   "codemirror_mode": {
    "name": "ipython",
    "version": 3
   },
   "file_extension": ".py",
   "mimetype": "text/x-python",
   "name": "python",
   "nbconvert_exporter": "python",
   "pygments_lexer": "ipython3",
   "version": "3.8.12"
  }
 },
 "nbformat": 4,
 "nbformat_minor": 5
}
